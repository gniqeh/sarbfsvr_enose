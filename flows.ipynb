{
 "cells": [
  {
   "cell_type": "code",
   "execution_count": null,
   "id": "18e03223",
   "metadata": {},
   "outputs": [],
   "source": [
    "import warnings\n",
    "warnings.filterwarnings(\"ignore\")"
   ]
  },
  {
   "cell_type": "code",
   "execution_count": null,
   "id": "6a9c959a",
   "metadata": {},
   "outputs": [],
   "source": [
    "import pandas as pd\n",
    "import numpy as np\n",
    "import matplotlib.pyplot as plt\n",
    "import seaborn as sns\n",
    "import matplotlib"
   ]
  },
  {
   "cell_type": "markdown",
   "id": "e31b78d6",
   "metadata": {},
   "source": [
    "# 数据处理"
   ]
  },
  {
   "cell_type": "code",
   "execution_count": null,
   "id": "f050634d",
   "metadata": {},
   "outputs": [],
   "source": [
    "#载入数据\n",
    "df = pd.read_excel(r\"K:\\zqh\\data_B.xlsx\")"
   ]
  },
  {
   "cell_type": "code",
   "execution_count": null,
   "id": "b4fc00cd",
   "metadata": {},
   "outputs": [],
   "source": [
    "#制作X集合\n",
    "X = df.drop(df.columns[3],axis=1)\n",
    "\n",
    "#给col重新命名\n",
    "X.columns=[\"date\",\"time\",\"XCO\",\"XNMHC\",\"XNOX\",\"XNO2\",\"XO3\",\"XT\",\"XAH\"]\n",
    "\n",
    "# # 时间改成整数\n",
    "# for i in X.index:\n",
    "#     X.time[i]=X.time[i].hour\n",
    "# X.time = X.time.astype(\"int\")\n",
    "\n",
    "#时间和日期不要了\n",
    "X = X.drop([\"date\",\"time\"],axis=1)\n",
    "\n",
    "#查看是否有异常值\n",
    "for i in X.columns:\n",
    "    X[i].plot()"
   ]
  },
  {
   "cell_type": "code",
   "execution_count": null,
   "id": "5db7e4fc",
   "metadata": {},
   "outputs": [],
   "source": [
    "X"
   ]
  },
  {
   "cell_type": "markdown",
   "id": "07c3117c",
   "metadata": {},
   "source": [
    "fig, ax = plt.subplots(nrows=1,ncols=1,figsize=(WP,WP*0.7),dpi=100)\n",
    "sns.lineplot(data=X.drop([\"XT\",\"XAH\"],axis=1),dashes=False,ax=ax)\n"
   ]
  },
  {
   "cell_type": "code",
   "execution_count": null,
   "id": "ec9f4fca",
   "metadata": {},
   "outputs": [],
   "source": [
    "#制作target dataset，查看是否有异常值\n",
    "y = pd.DataFrame(df.loc[:,df.columns[3]])\n",
    "y.plot()"
   ]
  },
  {
   "cell_type": "code",
   "execution_count": null,
   "id": "f30e8869",
   "metadata": {},
   "outputs": [],
   "source": [
    "# 39index是异常值，用38号的值修复一下\n",
    "y = pd.DataFrame(df.loc[:,df.columns[3]])\n",
    "#改一下col name\n",
    "y.columns=[\"y\"]\n",
    "y.loc[39] = y.loc[38]"
   ]
  },
  {
   "cell_type": "code",
   "execution_count": null,
   "id": "f6e14b45",
   "metadata": {},
   "outputs": [],
   "source": [
    "#制作窗口为4的时间序列数组\n",
    "Xn=X.copy()\n",
    "yn=y.copy()\n",
    "#只制作XNMHC的序列数组\n",
    "tmp = pd.DataFrame(X.XNMHC)\n",
    "#宽度是4\n",
    "TW=4\n",
    "\n",
    "for i in range(TW):\n",
    "    #用index的次序覆盖，然后重编号\n",
    "    Xn = Xn.iloc[1:].reset_index(drop=True)\n",
    "    #加入，并且命名好新维度\n",
    "    Xn[\"XNMHC-\"+str(i+1)] = tmp[:-(i+1)].values\n",
    "\n",
    "#更新对应的target\n",
    "yn = yn.iloc[i+1:].reset_index(drop=True)"
   ]
  },
  {
   "cell_type": "code",
   "execution_count": null,
   "id": "6bea26ef",
   "metadata": {},
   "outputs": [],
   "source": [
    "#train dataset和test dataset的制作\n",
    "def func0(Xn,yn):\n",
    "    #中间隔24个样本（1天）\n",
    "    Xn1,yn1 = Xn.iloc[:-24*2],yn.iloc[:-24*2]\n",
    "    #下面是test dataset，其实也是按照index order来的\n",
    "    Xn2,yn2 = Xn.iloc[-24:],yn.iloc[-24:]\n",
    "    return Xn1,yn1,Xn2,yn2"
   ]
  },
  {
   "cell_type": "markdown",
   "id": "debd3f8d",
   "metadata": {},
   "source": [
    "数据池"
   ]
  },
  {
   "cell_type": "code",
   "execution_count": null,
   "id": "bab4f307",
   "metadata": {},
   "outputs": [],
   "source": [
    "#数据池子的构造\n",
    "\n",
    "data={}\n",
    "# d1，单NMHC响应\n",
    "Xa=pd.DataFrame(Xn.XNMHC)#only one\n",
    "Xa1,ya1,Xa2,ya2=func0(Xa,yn)\n",
    "data[\"d1\"]=[Xa1,ya1,Xa2,ya2]\n",
    "\n",
    "\n",
    "# d2，全部仪器响应\n",
    "Xc=Xn\n",
    "Xc1,yc1,Xc2,yc2=func0(Xc,yn)\n",
    "data[\"d2\"]=[Xc1.drop([\"XNMHC-1\",\"XNMHC-2\",\"XNMHC-3\",\"XNMHC-4\"],axis=1),yc1,Xc2.drop([\"XNMHC-1\",\"XNMHC-2\",\"XNMHC-3\",\"XNMHC-4\"],axis=1),yc2]\n",
    "\n",
    "#d3，多通道序列\n",
    "data[\"d3\"]=[Xc1,yc1,Xc2,yc2]"
   ]
  },
  {
   "cell_type": "code",
   "execution_count": null,
   "id": "bca45c5d",
   "metadata": {},
   "outputs": [],
   "source": [
    "#标准化\n",
    "#from sklearn.preprocessing import StandardScaler\n",
    "#for i in data.keys():\n",
    "#    data[i]\n",
    "#    ssx=StandardScaler()\n",
    "#    ssy=StandardScaler()\n",
    "    \n",
    "#    ssx.fit(data[i][0])\n",
    "#    ssy.fit(data[i][1])\n",
    "    \n",
    "#    data[i][0]=pd.DataFrame(ssx.transform(data[i][0]),columns=data[i][0].columns)\n",
    "#    data[i][1]=pd.DataFrame(ssy.transform(data[i][1]),columns=data[i][1].columns)\n",
    "#    data[i][2]=pd.DataFrame(ssx.transform(data[i][2]),columns=data[i][2].columns)\n",
    "#    data[i][3]=pd.DataFrame(ssy.transform(data[i][3]),columns=data[i][3].columns)\n",
    "        \n",
    "#    data[i].append([ssx,ssy])\n",
    "    "
   ]
  },
  {
   "cell_type": "markdown",
   "id": "ad498f09",
   "metadata": {},
   "source": [
    "# 模型构造"
   ]
  },
  {
   "cell_type": "markdown",
   "id": "f54ef98b",
   "metadata": {},
   "source": [
    "模型池"
   ]
  },
  {
   "cell_type": "code",
   "execution_count": null,
   "id": "4db54025",
   "metadata": {},
   "outputs": [],
   "source": [
    "models = {}\n",
    "from sklearn.svm import SVR,LinearSVR\n",
    "from sklearn.linear_model import LinearRegression,ElasticNetCV\n",
    "\n",
    "# # 0.1 better-rbf-svr\n",
    "models[\"better-svr\"]=615\n",
    "\n",
    "# # 1.1 linear-svr\n",
    "models[\"lsvr\"]=LinearSVR(random_state=615,max_iter=1000)\n",
    "\n",
    "# # 1.2 rbf-svr\n",
    "models[\"rbfsvr\"]=SVR(C=100,max_iter=1000)#狂野调参，要不太废物了啊\n",
    "\n",
    "# # 2.1 普通偏最小二乘回归\n",
    "models[\"oplsr\"]=LinearRegression()\n",
    "\n",
    "# # 2.2 cv3的弹性网回归\n",
    "models[\"en3\"]=ElasticNetCV(cv=3, random_state=615)"
   ]
  },
  {
   "cell_type": "markdown",
   "id": "ec151afb",
   "metadata": {},
   "source": [
    "better svm"
   ]
  },
  {
   "cell_type": "code",
   "execution_count": null,
   "id": "36e7a7c2",
   "metadata": {},
   "outputs": [],
   "source": [
    "def better_rbfsvm(X,y):\n",
    "    from hyperactive import Hyperactive\n",
    "    from hyperactive.optimizers import SimulatedAnnealingOptimizer\n",
    "    from sklearn.model_selection import cross_val_score\n",
    "    \n",
    "    y=y.values.ravel()#让warning闭嘴\n",
    "    \n",
    "    ##1.主干部分\n",
    "    def model(opt):\n",
    "        svr = SVR(C=opt[\"C\"],#C是控制正则惩罚的第一个\n",
    "                  gamma=opt[\"gamma\"],#这个是控制rbf核的\n",
    "                  epsilon=opt[\"epsilon\"],#epsilon是控制正则惩罚的另一个\n",
    "                  cache_size=5000,\n",
    "                  max_iter=1000)#limit the max iteration von svm \n",
    "        svr.fit(X, y)\n",
    "        scores = cross_val_score(svr, X, y, cv=5)#cv5的交叉检验，这里默认的metrics是R2，我们就用它了\n",
    "        #否则scoring=\"neg_mean_absolute_error\"or\"r2\",都不用加负号，因为这个是找最大的（mae是负的）\n",
    "        return scores.mean()\n",
    "    \n",
    "    ##2.search_space部分\n",
    "    ###碎碎念一下，至少让初始化的地方，是默认值\n",
    "    ###svm的话，可以先狂野的搞一下C，10，100，1000这样的\n",
    "    \n",
    "    search_space={}\n",
    "    C=100#狂野调试\n",
    "    gamma=1/(X.shape[1]*X.values.var())#\"scale\"模式下的取值\n",
    "    epsilon=0.1#docs里面的默认值\n",
    "\n",
    "\n",
    "    low  = list(np.linspace(start=1,stop=C,num=1000,dtype=\"int\"))#C：100~1000，均匀取100个\n",
    "    high = list(np.linspace(start=C,stop=C*10,num=9000,dtype=\"int\"))#C：1000~10000，均匀取100个\n",
    "    tmp=list(set(low+high))\n",
    "    #tmp=list(set(list(np.linspace(start=100,stop=3000,num=3000,dtype=\"int\"))))#C：1000~10000，均匀取100个\n",
    "    tmp.sort()\n",
    "    search_space[\"C\"] = tmp#排重、衔接起来\n",
    "\n",
    "    low  = list(np.linspace(start=gamma/10,stop=gamma,num=5000))#小一个数量级，然后到自身，均匀取5k个\n",
    "    high = list(np.linspace(start=gamma,stop=gamma*10,num=5000))#自身到大一个数量级，均匀取5k个\n",
    "    tmp=list(set(low+high))\n",
    "    tmp.sort()\n",
    "    search_space[\"gamma\"] = tmp#排重、衔接\n",
    "\n",
    "    low  = list(np.linspace(start=epsilon/10,stop=epsilon,num=5000))#同上\n",
    "    high = list(np.linspace(start=epsilon,stop=epsilon*10,endpoint=False,num=5000))\n",
    "    tmp=list(set(low+high))\n",
    "    tmp.sort()\n",
    "    search_space[\"epsilon\"] = tmp\n",
    "\n",
    "    ##3.初始空间\n",
    "    kkp = {\"C\": C, \"gamma\": gamma, \"epsilon\":epsilon}#初始化数值的选择，也是个dict\n",
    "    \n",
    "    ##4.优化器部分\n",
    "    optimizer = SimulatedAnnealingOptimizer(\n",
    "        epsilon=0.5,\n",
    "        distribution=\"normal\",\n",
    "        n_neighbours=5,\n",
    "        rand_rest_p=0,#随机重启率\n",
    "        annealing_rate=0.90,#退火率\n",
    "        start_temp=1,)\n",
    "    \n",
    "    ##干活了\n",
    "    hyper = Hyperactive(verbosity = [\"progress_bar\", \"print_results\", \"print_times\"],distribution =\"joblib\")\n",
    "    hyper.add_search(model, #def的主干部分\n",
    "                     search_space, #搜索空间\n",
    "                     optimizer=optimizer,#优化器部分\n",
    "                     initialize={ \"warm_start\": [kkp]}, #初始空间\n",
    "                     n_jobs=1,\n",
    "                     n_iter=10000)#多少次\n",
    "    #开工\n",
    "    hyper.run()#max_time = 600)#你可以限制时间\n",
    "        \n",
    "    return hyper.best_para(model),hyper.results(model)"
   ]
  },
  {
   "cell_type": "markdown",
   "id": "bc5c998b",
   "metadata": {},
   "source": [
    "# flow space"
   ]
  },
  {
   "cell_type": "code",
   "execution_count": null,
   "id": "d367f7de",
   "metadata": {
    "scrolled": false
   },
   "outputs": [],
   "source": [
    "last_results={}\n",
    "hyper_results=[]\n",
    "for i in data.keys():\n",
    "    for j in models.keys():\n",
    "        if j[0:6]==\"better\":#单独为better_svm设计的\n",
    "            \n",
    "            paras,resl = better_rbfsvm(data[i][0],data[i][1])\n",
    "            #paras的最好的parameters\n",
    "            #resl是迭代过程的结果\n",
    "            \n",
    "            C=paras[\"C\"]\n",
    "            gamma=paras[\"gamma\"]\n",
    "            epsilon=paras[\"epsilon\"]\n",
    "            \n",
    "            hyper_results.append([paras,resl])\n",
    "            model = SVR(C=C,gamma=gamma,epsilon=epsilon)\n",
    "            model.fit(data[i][0],data[i][1])\n",
    "            \n",
    "            yhat1=model.predict(data[i][0])\n",
    "            yhat2=model.predict(data[i][2])\n",
    "            \n",
    "        else:#其他陪跑选手\n",
    "            #拟合部分\n",
    "            model = models[j]\n",
    "            model.fit(data[i][0],data[i][1])\n",
    "            \n",
    "            #保存予测值\n",
    "            yhat1=model.predict(data[i][0])\n",
    "            yhat2=model.predict(data[i][2])\n",
    "        \n",
    "        #output部分\n",
    "        last_results[str(j)+\"_\"+str(i)]={\"model\":model,\"yhat1\":yhat1,\"yhat2\":yhat2,\"data\":data[i]}\n",
    "        #last_results的部分：\n",
    "        ## \"model\":拟合好的模型\n",
    "        ## \"yhat1\":训练集的结果\n",
    "        ## \"yhat2\":测试集的结果\n",
    "        ## \"data\"：数据池，0，1=训练，2，3=测试 \n",
    "        "
   ]
  },
  {
   "cell_type": "markdown",
   "id": "0efe55ef",
   "metadata": {},
   "source": [
    "# 小报告"
   ]
  },
  {
   "cell_type": "code",
   "execution_count": null,
   "id": "daacf19e",
   "metadata": {},
   "outputs": [],
   "source": [
    "#定义报告函数\n",
    "def func_report(y_true,y_pred):\n",
    "    \n",
    "    from sklearn import metrics\n",
    "    reports={\"r2\" : metrics.r2_score(y_true,y_pred),\n",
    "             \"mae\" : metrics.mean_absolute_error(y_true,y_pred),\n",
    "             \"mape\" : 1-metrics.mean_absolute_percentage_error(y_true,y_pred),#折算的\n",
    "             \"mxr\" : metrics.max_error(y_true,y_pred),#max error\n",
    "             \"medae\" : metrics.median_absolute_error(y_true,y_pred)}#medium ae中位数误差\n",
    "    \n",
    "    return reports    "
   ]
  },
  {
   "cell_type": "code",
   "execution_count": null,
   "id": "6f437f7b",
   "metadata": {},
   "outputs": [],
   "source": [
    "metrics_test={}\n",
    "metrics_train={}\n",
    "\n",
    "for i in last_results.keys():\n",
    "    #print(i)    \n",
    "    metrics_train[i]=func_report(last_results[i][\"data\"][1],last_results[i][\"yhat1\"])\n",
    "    metrics_test[i]=func_report(last_results[i][\"data\"][3],last_results[i][\"yhat2\"]) \n",
    "\n",
    "    \n",
    "train_reports=pd.DataFrame(columns=metrics_train[i].keys(),index=metrics_train.keys())#train的做成pd.Dataframe\n",
    "for i in train_reports.index:\n",
    "    train_reports.loc[i]=list(metrics_train[i].values())\n",
    "    \n",
    "test_reports=pd.DataFrame(columns=metrics_test[i].keys(),index=metrics_test.keys())#test的做成pd.Dataframe\n",
    "for i in test_reports.index:    \n",
    "    test_reports.loc[i]=list(metrics_test[i].values())\n",
    "\n"
   ]
  },
  {
   "cell_type": "markdown",
   "id": "120359b8",
   "metadata": {
    "scrolled": false
   },
   "source": [
    "test_reports.to_excel(r\"K:\\修理亮\\kkps.xlsx\")"
   ]
  },
  {
   "cell_type": "code",
   "execution_count": null,
   "id": "a3507b0e",
   "metadata": {},
   "outputs": [],
   "source": [
    "test_reports"
   ]
  },
  {
   "cell_type": "markdown",
   "id": "a1be85ef",
   "metadata": {},
   "source": [
    "# nice!"
   ]
  },
  {
   "cell_type": "markdown",
   "id": "56eb3c95",
   "metadata": {},
   "source": [
    "import joblib\n",
    "joblib.dump(train_reports,r\"K:\\修理亮\\data\\train_reports.zqh\")\n",
    "joblib.dump(test_reports,r\"K:\\修理亮\\data\\test_reports.zqh\")\n",
    "joblib.dump(hyper_results,r\"K:\\修理亮\\data\\hyper_results.zqh\")\n",
    "joblib.dump(last_results,r\"K:\\修理亮\\data\\last_results.zqh\")\n",
    "joblib.dump(data,r\"K:\\修理亮\\data\\data.zqh\")"
   ]
  },
  {
   "cell_type": "markdown",
   "id": "2e81d056",
   "metadata": {},
   "source": [
    "# recovery"
   ]
  },
  {
   "cell_type": "code",
   "execution_count": null,
   "id": "15e2614b",
   "metadata": {},
   "outputs": [],
   "source": [
    "import joblib\n",
    "train_reports=joblib.load(r\"K:\\zqh\\data\\train_reports.zqh\")\n",
    "test_reports=joblib.load(r\"K:\\zqh\\data\\test_reports.zqh\")\n",
    "hyper_results=joblib.load(r\"K:\\zqh\\data\\hyper_results.zqh\")\n",
    "last_results=joblib.load(r\"K:\\zqh\\data\\last_results.zqh\")\n",
    "data=joblib.load(r\"K:\\zqh\\data\\data.zqh\")"
   ]
  },
  {
   "cell_type": "code",
   "execution_count": null,
   "id": "6a430916",
   "metadata": {},
   "outputs": [],
   "source": [
    "test_reports"
   ]
  },
  {
   "cell_type": "markdown",
   "id": "a336fc2f",
   "metadata": {},
   "source": [
    "# 画图"
   ]
  },
  {
   "cell_type": "code",
   "execution_count": null,
   "id": "af0e2bfd",
   "metadata": {},
   "outputs": [],
   "source": [
    "plt.rcParams[\"font.family\"]=\"Roboto\"\n",
    "plt.rcParams[\"font.size\"]=7.5\n",
    "plt.rcParams['figure.figsize'] = 3,3\n",
    "WP=3\n",
    "sns.set()\n",
    "sns.set_style(\"ticks\")\n",
    "\n",
    "font = {'family' : 'Roboto',\n",
    "        'size'   : 7.5}\n",
    "\n",
    "matplotlib.rc('font', **font)"
   ]
  },
  {
   "cell_type": "markdown",
   "id": "ba9fd798",
   "metadata": {},
   "source": [
    "## 效果图"
   ]
  },
  {
   "cell_type": "code",
   "execution_count": null,
   "id": "07a5e849",
   "metadata": {},
   "outputs": [],
   "source": [
    "hats2=pd.DataFrame()\n",
    "hats2[\"ytrue\"] = data[\"d1\"][3][\"y\"].values\n",
    "hats2[\"oplsr_d1\"]=last_results[\"oplsr_d1\"][\"yhat2\"]\n",
    "hats2[\"oplsr_d2\"]=last_results[\"oplsr_d2\"][\"yhat2\"]\n",
    "hats2[\"oplsr_d3\"]=last_results[\"oplsr_d3\"][\"yhat2\"]\n",
    "hats2[\"better-svr_d3\"]=last_results[\"better-svr_d3\"][\"yhat2\"]\n",
    "\n",
    "fig, ax = plt.subplots(nrows=1,ncols=1,figsize=(WP*2.5,WP),dpi=100)\n",
    "sns.lineplot(data=hats2,markers=False,legend=True,sizes=0.01,ax=ax,dashes=False)\n",
    "\n",
    "plt.title(\"pred vs true\")\n",
    "sns.despine()\n",
    "\n",
    "plt.savefig(r\"K:\\zqh\\figs\\fig8.png\")"
   ]
  },
  {
   "cell_type": "markdown",
   "id": "ed6005c7",
   "metadata": {},
   "source": [
    "# kkp"
   ]
  },
  {
   "cell_type": "code",
   "execution_count": null,
   "id": "4233f763",
   "metadata": {},
   "outputs": [],
   "source": [
    "xcs=[]\n",
    "for i in test_reports.index.values:\n",
    "    xcs.append(i[-2:])\n",
    "    \n",
    "sbx=test_reports.index.values\n",
    "sbr2=test_reports.r2.values\n",
    "sbmape=test_reports.mape.values\n",
    "sbmae=test_reports.mae.values\n",
    "\n",
    "sbx2=[]\n",
    "for i in sbx:\n",
    "    sbx2.append(i[:-3])\n",
    "    \n",
    "snsb=pd.DataFrame([sbx2,sbr2,sbmape,sbmae,xcs]).T.rename({0:\"model\",1:\"r2\",2:\"mape\",3:\"mae\",4:\"data_style\"},axis=1)"
   ]
  },
  {
   "cell_type": "markdown",
   "id": "08354931",
   "metadata": {},
   "source": [
    "## R2"
   ]
  },
  {
   "cell_type": "code",
   "execution_count": null,
   "id": "43a5a4b2",
   "metadata": {},
   "outputs": [],
   "source": [
    "fig, ax = plt.subplots(dpi=100)\n",
    "\n",
    "ax = sns.barplot(x=\"model\",y=\"r2\",hue=\"data_style\",data=snsb,ax=ax)\n",
    "\n",
    "ax.set_xlabel(None)\n",
    "ax.set_ylabel(None)\n",
    "\n",
    "plt.title(\"R2s\")\n",
    "plt.legend(loc=4)\n",
    "plt.ylim([0.4,1.0])\n",
    "\n",
    "sns.despine()\n",
    "#plt.savefig(r\"K:\\zqh\\figs\\fig6.png\")"
   ]
  },
  {
   "cell_type": "markdown",
   "id": "6001212f",
   "metadata": {},
   "source": [
    "## MAPE"
   ]
  },
  {
   "cell_type": "code",
   "execution_count": null,
   "id": "b4c0ae1f",
   "metadata": {},
   "outputs": [],
   "source": [
    "fig, ax = plt.subplots(dpi=100)\n",
    "ax=sns.barplot(x=\"model\",y=\"mape\",hue=\"data_style\",data=snsb,ax=ax)\n",
    "\n",
    "ax.set_xlabel(None)\n",
    "ax.set_ylabel(None)\n",
    "\n",
    "plt.title(\"MAPEs\")\n",
    "plt.legend(loc=4)\n",
    "plt.ylim([0.4,1.0])\n",
    "\n",
    "sns.despine()\n",
    "\n",
    "plt.savefig(r\"K:\\zqh\\figs\\fig6.png\")"
   ]
  },
  {
   "cell_type": "markdown",
   "id": "234e6a0e",
   "metadata": {},
   "source": [
    "## MAE"
   ]
  },
  {
   "cell_type": "code",
   "execution_count": null,
   "id": "6a80c304",
   "metadata": {},
   "outputs": [],
   "source": [
    "fig, ax = plt.subplots(dpi=100)\n",
    "ax = sns.barplot(x=\"model\",y=\"mae\",hue=\"data_style\",data=snsb,ax=ax,palette=(\"brg_r\"))\n",
    "\n",
    "\n",
    "ax.set_xlabel(None)\n",
    "ax.set_ylabel(None)\n",
    "\n",
    "plt.title(\"MAEs\")\n",
    "plt.legend(loc=1)\n",
    "plt.ylim([0,100])\n",
    "\n",
    "sns.despine()"
   ]
  },
  {
   "cell_type": "markdown",
   "id": "41c04bc6",
   "metadata": {},
   "source": [
    "## 雷达图"
   ]
  },
  {
   "cell_type": "code",
   "execution_count": null,
   "id": "8e63d56a",
   "metadata": {},
   "outputs": [],
   "source": [
    "test_reports"
   ]
  },
  {
   "cell_type": "code",
   "execution_count": null,
   "id": "112a79eb",
   "metadata": {},
   "outputs": [],
   "source": [
    "import matplotlib.pyplot as plt\n",
    "import pandas as pd\n",
    "from math import pi\n",
    " \n",
    "# Set data\n",
    "deltas=pd.DataFrame()\n",
    "deltas[\"oplsr_d1\"]=test_reports[[\"mae\",\"mxr\",\"medae\"]].iloc[3]\n",
    "deltas[\"oplsr_d2\"]=test_reports[[\"mae\",\"mxr\",\"medae\"]].iloc[8]\n",
    "deltas[\"oplsr_d3\"]=test_reports[[\"mae\",\"mxr\",\"medae\"]].iloc[13]\n",
    "deltas[\"better-svr_d2\"]=test_reports[[\"mae\",\"mxr\",\"medae\"]].iloc[5]\n",
    "deltas[\"better-svr_d3\"]=test_reports[[\"mae\",\"mxr\",\"medae\"]].iloc[10]\n",
    "\n",
    "deltas[\"group\"]=deltas.index.values\n",
    "deltas=deltas.reset_index(drop=True)\n",
    "deltas = deltas.T.reset_index().iloc[:-1].rename({\"index\":\"group\",0:\"mae\",1:\"mxr\",2:\"med\"},axis=1)\n",
    "df = deltas\n",
    "# ------- PART 1: Create background\n",
    " \n",
    "# number of variable\n",
    "categories=list(df)[1:]\n",
    "N = len(categories)\n",
    " \n",
    "# What will be the angle of each axis in the plot? (we divide the plot / number of variable)\n",
    "angles = [n / float(N) * 2 * pi for n in range(N)]\n",
    "angles += angles[:1]\n",
    " \n",
    "# Initialise the spider plot\n",
    "ax = plt.subplot(111, polar=True)\n",
    " \n",
    "# If you want the first axis to be on top:\n",
    "ax.set_theta_offset(pi / 2)\n",
    "ax.set_theta_direction(-1)\n",
    " \n",
    "# Draw one axe per variable + add labels\n",
    "plt.xticks(angles[1:], categories)\n",
    " \n",
    "# Draw ylabels\n",
    "#ax.set_rlabel_position(0)\n",
    "#plt.yticks([10,20,30], [\"10\",\"20\",\"30\"], color=\"grey\", size=7)\n",
    "#plt.ylim(0,40)\n",
    " \n",
    "\n",
    "# ------- PART 2: Add plots\n",
    " \n",
    "# Plot each individual = each line of the data\n",
    "# I don't make a loop, because plotting more than 3 groups makes the chart unreadable\n",
    "\n",
    "\n",
    "for i in range(len(df)):\n",
    "    values=df.loc[i].drop('group').values.flatten().tolist()\n",
    "    values += values[:1]\n",
    "    ax.plot(angles, values, linewidth=1, linestyle='solid', label=df.group.iloc[i],alpha=1)\n",
    "    ax.fill(angles, values, 'b', alpha=0)\n",
    "\n",
    "# Add legend\n",
    "plt.legend(bbox_to_anchor=(0.36, 1.0))\n",
    "plt.savefig(r\"K:\\zqh\\figs\\fig7.png\")\n",
    "# Show the graph\n",
    "plt.show()\n",
    "\n"
   ]
  },
  {
   "cell_type": "markdown",
   "id": "8e1652df",
   "metadata": {},
   "source": [
    "## 组图1：超参数3d"
   ]
  },
  {
   "cell_type": "code",
   "execution_count": null,
   "id": "14f01966",
   "metadata": {},
   "outputs": [],
   "source": [
    "import re, seaborn as sns\n",
    "from matplotlib import pyplot as plt\n",
    "from mpl_toolkits.mplot3d import Axes3D\n",
    "from matplotlib.colors import ListedColormap\n",
    "\n",
    "# generate data\n",
    "#n = 200\n",
    "px = hyper_results[-1][-1].C.values\n",
    "py = hyper_results[-1][-1].gamma.values\n",
    "pz = hyper_results[-1][-1].epsilon.values\n",
    "pc = hyper_results[-1][-1].score.values\n",
    "\n",
    "pc2 = pd.DataFrame(pc).rename({0:\"pc\"},axis=1).sort_values(\"pc\",ascending=False)\n",
    "pc2[\"od\"]=list(np.linspace(1,1/len(pc2),len(pc2)))\n",
    "pc2=pc2.sort_index()\n",
    "pc2=pc2.drop(\"pc\",axis=1)\n",
    "\n",
    "# axes instance\n",
    "fig = plt.figure(figsize=(WP,WP),dpi=100)\n",
    "ax = Axes3D(fig)\n",
    "fig.add_axes(ax)\n",
    "\n",
    "# get colormap from seaborn\n",
    "cmap = ListedColormap(sns.color_palette(\"Spectral_r\",100).as_hex())\n",
    "#cmap = ListedColormap(sns.color_palette(\"Reds\",100).as_hex())\n",
    "\n",
    "# plot\n",
    "sc = ax.scatter(px, py, pz, s=1, c=pc2, marker='o', cmap=cmap, alpha=1)\n",
    "ax.set_xlabel('C')\n",
    "ax.set_ylabel('gamma(           )')\n",
    "ax.set_zlabel('epsilon')\n",
    "\n",
    "\n",
    "fig.colorbar(sc,ax=ax,fraction=0.04, pad=0.2)\n",
    "#plt.savefig(\"scatter_hue\", bbox_inches='tight')\n",
    "\n",
    "plt.savefig(r\"K:\\zqh\\figs\\fig5.png\")\n",
    "plt.savefig(r\"K:\\zqh\\figs\\fig5.svg\", format=\"svg\")"
   ]
  },
  {
   "cell_type": "code",
   "execution_count": null,
   "id": "75f2f18f",
   "metadata": {},
   "outputs": [],
   "source": [
    "fig,ax=plt.subplots(figsize=(WP,WP),dpi=100)\n",
    "ax = sns.scatterplot(x=px,y=py,c=pc2.od.values,cmap=cmap,ax=ax,s=pc2*20)\n",
    "ax.set_xlabel(\"C\")\n",
    "ax.set_ylabel(\"gamma\")"
   ]
  },
  {
   "cell_type": "code",
   "execution_count": null,
   "id": "54ddec69",
   "metadata": {},
   "outputs": [],
   "source": [
    "fig,ax=plt.subplots(figsize=(WP,WP),dpi=100)\n",
    "ax = sns.scatterplot(x=py,y=pz,c=pc2.od.values,cmap=cmap,ax=ax,s=pc2*20)\n",
    "ax.set_xlabel(\"gamma\")\n",
    "ax.set_ylabel(\"epsilon\")"
   ]
  },
  {
   "cell_type": "code",
   "execution_count": null,
   "id": "b270e77b",
   "metadata": {
    "scrolled": true
   },
   "outputs": [],
   "source": [
    "fig,ax=plt.subplots(figsize=(WP,WP),dpi=100)\n",
    "ax = sns.scatterplot(x=px,y=pz,c=pc2.od.values,cmap=cmap,ax=ax,s=pc2*20)\n",
    "ax.set_xlabel(\"C\")\n",
    "ax.set_ylabel(\"epsilon\")\n",
    "nmb = matplotlib.cm.ScalarMappable(cmap=cmap)\n",
    "fig.colorbar(nmb,ax=ax[2])"
   ]
  },
  {
   "cell_type": "markdown",
   "id": "7e91fa37",
   "metadata": {},
   "source": [
    "fig, ax = plt.subplots(nrows=1,ncols=3,figsize=(WP,WP),dpi=100)\n",
    "nmb = matplotlib.cm.ScalarMappable(cmap=cmap)\n",
    "\n",
    "sns.scatterplot(x=px,y=py,c=pc2.od.values,cmap=cmap,ax=ax[0],s=pc2*20)\n",
    "#fig.colorbar(nmb,ax=ax[0])\n",
    "sns.scatterplot(x=py,y=pz,c=pc2.od.values,cmap=cmap,ax=ax[1],s=pc2*20)\n",
    "#fig.colorbar(nmb,ax=ax[1])\n",
    "sns.scatterplot(x=px,y=pz,c=pc2.od.values,cmap=cmap,ax=ax[2],s=pc2*20)\n",
    "#fig.colorbar(nmb,ax=ax[2])\n",
    "plt.subplots_adjust()\n",
    "#sns.despine()"
   ]
  },
  {
   "cell_type": "code",
   "execution_count": null,
   "id": "9a65610d",
   "metadata": {},
   "outputs": [],
   "source": [
    "fig, ax = plt.subplots(nrows=1,ncols=1,figsize=(WP,WP),dpi=100)\n",
    "sns.scatterplot(data=hyper_results[2][1].score,s=(hyper_results[2][1].score+1)*2)\n",
    "ax.set_xlabel(\"iteration\")\n",
    "ax.set_ylabel(\"score\")\n",
    "\n",
    "plt.xlim([0,5000])\n",
    "plt.ylim([0.8,1.0])"
   ]
  },
  {
   "cell_type": "code",
   "execution_count": null,
   "id": "ed9cd6e8",
   "metadata": {},
   "outputs": [],
   "source": [
    "df0 = pd.read_excel(r\"K:\\zqh\\data_A.xlsx\").iloc[0:182]\n",
    "df0 = df0.drop(['Date', 'Time',  'PT08.S1(CO)', 'PT08.S2(NMHC)','PT08.S3(NOx)', 'PT08.S4(NO2)','PT08.S5(O3)', 'T', 'AH','RH'],axis=1)\n",
    "pms=df0.corr(method=\"pearson\")\n",
    "import seaborn as sns\n",
    "import matplotlib.pyplot as plt\n",
    "\n",
    "fig, ax = plt.subplots(nrows=1,ncols=1,figsize=(WP*1.5,WP),dpi=100)\n",
    "sns.heatmap(pms,annot=True,ax=ax,cmap=cmap)\n",
    "ax.set_xticklabels(ax.get_xticklabels(),rotation = -30)\n",
    "pms\n",
    "\n",
    "plt.savefig(r\"K:\\zqh\\figs\\fig4.png\")\n",
    "plt.savefig(r\"K:\\zqh\\figs\\fig4.svg\", format=\"svg\")\n",
    "\n",
    "plt.show()"
   ]
  },
  {
   "cell_type": "code",
   "execution_count": null,
   "id": "07302084",
   "metadata": {},
   "outputs": [],
   "source": []
  }
 ],
 "metadata": {
  "kernelspec": {
   "display_name": "Python 3",
   "language": "python",
   "name": "python3"
  },
  "language_info": {
   "codemirror_mode": {
    "name": "ipython",
    "version": 3
   },
   "file_extension": ".py",
   "mimetype": "text/x-python",
   "name": "python",
   "nbconvert_exporter": "python",
   "pygments_lexer": "ipython3",
   "version": "3.8.8"
  }
 },
 "nbformat": 4,
 "nbformat_minor": 5
}
